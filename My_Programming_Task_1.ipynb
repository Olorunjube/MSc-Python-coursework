{
 "cells": [
  {
   "cell_type": "markdown",
   "metadata": {},
   "source": [
    "\n",
    "# Programming Task 1\n",
    "\n"
   ]
  },
  {
   "cell_type": "markdown",
   "metadata": {
    "deletable": false
   },
   "source": [
    "<p style=\"color:red; font-weight:bold; font-size:xx-small\">OVERALL COURSEWORK MARK: ___%</p>"
   ]
  },
  {
   "cell_type": "markdown",
   "metadata": {},
   "source": [
    "### GitLab Edits\n",
    "<p style=\"color:red; font-weight:bold; font-size:xx-small\">MARK: __%</p>\n",
    "<p style=\"color:red; font-weight:bold; font-size:xx-small\">FEEDBACK: </p>"
   ]
  },
  {
   "cell_type": "markdown",
   "metadata": {
    "deletable": false
   },
   "source": [
    "### Requirement FR1 - Develop a function to find the arithmetic mean"
   ]
  },
  {
   "cell_type": "code",
   "execution_count": 23,
   "metadata": {},
   "outputs": [
    {
     "name": "stdout",
     "output_type": "stream",
     "text": [
      "14.5\n"
     ]
    }
   ],
   "source": [
    "# add code here\n",
    "#Mean_of numners is summation of numbers in a list divided by count of numbers in the list\n",
    "#we assume that mylist can include any amount of elements. so we want a formula that can work regradless of number of elements \n",
    "# this list also requires user input so we create a variable which is interger and allow users in the elements one affter the other\n",
    "# we start off by taking the inputs of the list. We assign a varaible so it can be used repeatedly and assign 0 as the first number\n",
    "def mean_of_numbers(nums):\n",
    "    sumoflist = 0\n",
    "    countoflist = len(nums)\n",
    "    mean_of_numbers = 0\n",
    "    for i in nums:\n",
    "        sumoflist += i\n",
    "    mean_of_numbers = sumoflist / countoflist\n",
    "    return float(mean_of_numbers)\n",
    "#we test our function \n",
    "\n",
    "mean= mean_of_numbers([29, 17, 28, 6, 14, 7, 4, 27, 21, 15, 10, 16, 24, 26, 3, 11, 13, 8, 23, 9, 0, 22, 12, 2, 18, 19, 5, 1, 20, 25])\n",
    "print(mean)\n"
   ]
  },
  {
   "cell_type": "markdown",
   "metadata": {
    "deletable": false
   },
   "source": [
    "<p style=\"color:red; font-weight:bold; font-size:xx-small\">MARK: __%</p>\n",
    "<p style=\"color:red; font-weight:bold; font-size:xx-small\">FEEDBACK: </p>"
   ]
  },
  {
   "cell_type": "markdown",
   "metadata": {
    "deletable": false
   },
   "source": [
    "### Requirement FR2 - Develop a function to find the standard deviation"
   ]
  },
  {
   "cell_type": "code",
   "execution_count": 24,
   "metadata": {},
   "outputs": [
    {
     "name": "stdout",
     "output_type": "stream",
     "text": [
      "8.65544144839919\n"
     ]
    }
   ],
   "source": [
    "# add code here\n",
    "def Calc_std_dev(nums):\n",
    "    len_of_list = len(nums)#length of our list of numbers\n",
    "    mean = sum(nums) / len_of_list\n",
    "    variance = sum((x - mean)**2 for x in nums) / len_of_list\n",
    "    std_dev = variance ** 0.5\n",
    "    return std_dev\n",
    "nums = [29, 17, 28, 6, 14, 7, 4, 27, 21, 15, 10, 16, 24, 26, 3, 11, 13, 8, 23, 9, 0, 22, 12, 2, 18, 19, 5, 1, 20, 25]\n",
    "standard_deviation =Calc_std_dev(nums)\n",
    "print (standard_deviation)\n"
   ]
  },
  {
   "cell_type": "markdown",
   "metadata": {
    "deletable": false
   },
   "source": [
    "<p style=\"color:red; font-weight:bold; font-size:xx-small\">MARK: __%</p>\n",
    "<p style=\"color:red; font-weight:bold; font-size:xx-small\">FEEDBACK: </p>"
   ]
  },
  {
   "cell_type": "markdown",
   "metadata": {
    "deletable": false
   },
   "source": [
    "### Requirement FR3 - Develop a function to find the median "
   ]
  },
  {
   "cell_type": "code",
   "execution_count": 25,
   "metadata": {},
   "outputs": [
    {
     "name": "stdout",
     "output_type": "stream",
     "text": [
      "14.5\n"
     ]
    }
   ],
   "source": [
    "# add code here\n",
    "def median_of_List(ml):\n",
    "    # to calculate the median we sort the list  ascending or descending order\n",
    "    ml_sorted = ml.sort()\n",
    "    # find the median\n",
    "    if len(ml) % 2 != 0:\n",
    "        # total number of values are odd\n",
    "        # subtract 1 since indexing starts at 0\n",
    "        l = int((len(ml)+1)/2 - 1)\n",
    "        return ml[l]\n",
    "    else:\n",
    "        l1 = int(len(ml)/2 - 1)\n",
    "        l2 = int(len(ml)/2)\n",
    "        return (ml[l1]+ml[l2])/2\n",
    "# create a list\n",
    "ml = [29, 17, 28, 6, 14, 7, 4, 27, 21, 15, 10, 16, 24, 26, 3, 11, 13, 8, 23, 9, 0, 22, 12, 2, 18, 19, 5, 1, 20, 25]\n",
    "# get the median\n",
    "median = (median_of_List(ml))\n",
    "print (median)"
   ]
  },
  {
   "cell_type": "markdown",
   "metadata": {
    "deletable": false
   },
   "source": [
    "<p style=\"color:red; font-weight:bold; font-size:xx-small\">MARK: __%</p>\n",
    "<p style=\"color:red; font-weight:bold; font-size:xx-small\">FEEDBACK: </p>"
   ]
  },
  {
   "cell_type": "markdown",
   "metadata": {
    "deletable": false
   },
   "source": [
    "### Requirement FR4 - Develop a function to find the skewness"
   ]
  },
  {
   "cell_type": "code",
   "execution_count": 26,
   "metadata": {},
   "outputs": [
    {
     "name": "stdout",
     "output_type": "stream",
     "text": [
      "0.0\n"
     ]
    }
   ],
   "source": [
    "# add code here\n",
    "def my_skewness(nums):\n",
    "    mean_value = mean_of_numbers(nums)\n",
    "    median_value = median_of_List(nums)\n",
    "    std_value = Calc_std_dev(nums)\n",
    "    skewness_value = 3 * (mean_value - median_value)/std_value\n",
    "    return skewness_value\n",
    "\n",
    "nums= [29, 17, 28, 6, 14, 7, 4, 27, 21, 15, 10, 16, 24, 26, 3, 11, 13, 8, 23, 9, 0, 22, 12, 2, 18, 19, 5, 1, 20, 25]\n",
    "print ( my_skewness(nums))\n"
   ]
  },
  {
   "cell_type": "markdown",
   "metadata": {
    "deletable": false
   },
   "source": [
    "<p style=\"color:red; font-weight:bold; font-size:xx-small\">MARK: __%</p>\n",
    "<p style=\"color:red; font-weight:bold; font-size:xx-small\">FEEDBACK: </p>"
   ]
  },
  {
   "cell_type": "markdown",
   "metadata": {
    "deletable": false
   },
   "source": [
    "### Requirement FR5 - Develop a function to read a single column from a CSV file"
   ]
  },
  {
   "cell_type": "code",
   "execution_count": 31,
   "metadata": {},
   "outputs": [
    {
     "name": "stdout",
     "output_type": "stream",
     "text": [
      "\"age\" : [ 16,27,26,25,29,29,22,35,44,31,76,40,31,23,39,25,54,24,57,21,42,21,36,26,49,54,26,48,33,21,41,48,36,41,29,27,45,32,35,36,35,40,18,34,39,21,62,43,44,29,35,50,18,25,31,29,49,23,45,26,35,34,46,29,39,28,51,67,53,25,30,24,35,43,24,29,38,31,36,23,38,53,24,26,28,34,28,40,51,44,25,56,37,58,39,37,35,26,47,31,60,32,45,42,17,22,33,18,39,59,33,58,58,47,41,64,45,53,24,48,29,40,34,21,26,45,25,17,24,42,29,42,30,29,39,63,49,41,27,30,60,77,19,37,54,29,30,24,21,44,40,32,22,43,52,27,34,20,25,24,20,46,42,43,41,59,25,42,64,22,24,63,56,60,54,37,22,39,45,57,42,19,26,34,69,64,35,40,19,27,37,17,39,74,42,47,43,46,44,31,47,41,43,40,32,31,20,20,33,22,41,41,32,16,29,42,29,47,53,18,47,34,36,63,36,27,28,33,32,42,31,17,28,24,71,51,28,53,54,45,33,48,34,23,35,33,32,52,30,23,35,42,37,56,36,27,30,31,46,51,72,28,63,28,33,24,27,24,28,28,17,46,52,39,49,30,51,16,18,22,40,61,52,51,36,36,59,17,18,41,33,25,23,47,58,47,34,28,37,87,39,27,35,36,24,26,34,51,49,41,54,36,26,35,22,27,42,32,32,25,26,53,26,40,55,29,31,19,57,40,35,35,39,37,36,62,43,32,34,37,37,33,35,40,21,30,23,26,39,33,34,37,26,24,25,31,49,59,50,37,28,26,23,32,24,42,34,68,31,83,35,29,50,56,43,38,27,36,55,36,68,61,46,47,26,37,22,18,39,49,23,47,32,45,51,31,54,31,23,29,28,31,24,27,57,39,38,34,39,20,35,36,38,33,57,38,72,37,47,43,37,75,21,20,29,37,41,22,23,64,34,49,32,25,39,53,27,36,20,39,19,34,36,34,31,45,34,31,28,57,29,50,40,35,53,59,18,28,52,38,48 ]\n"
     ]
    }
   ],
   "source": [
    "# add code here\n",
    "def extract_column(file_in, col_req):\n",
    "        with open(file_in, \"r\") as buffer:\n",
    "            openedlist = buffer.readlines()\n",
    "            finallist = []\n",
    "#print (openedlist)\n",
    "#we have a list of list with the new line xter\n",
    "#we must split the list into single list and remove the end on line xter\n",
    "        for i in openedlist:\n",
    "            templist = i.split(',')\n",
    "            finallist.append(templist[column_req])\n",
    "#print(templist)\n",
    "#list are isolated but the end of xter line needs to removed\n",
    "#column name also needs to be isolated.\n",
    "        column_name = finallist[0].replace('\\n','')\n",
    "#print (column_name)\n",
    "        del finallist[0]\n",
    "        str2 = ','.join(finallist)\n",
    "#print (str2)\n",
    "        cm = '\"'\n",
    "        str3 = cm + column_name + cm  + ' : '+ '[ ' + str2.replace('\\n','') + ' ]'\n",
    "        \n",
    "        return str3\n",
    "\n",
    "\n",
    "column_req = 0\n",
    "print(extract_column(\"task1.csv\", column_req))\n"
   ]
  },
  {
   "cell_type": "markdown",
   "metadata": {
    "deletable": false
   },
   "source": [
    "<p style=\"color:red; font-weight:bold; font-size:xx-small\">MARK: __%</p>\n",
    "<p style=\"color:red; font-weight:bold; font-size:xx-small\">FEEDBACK: </p>"
   ]
  },
  {
   "cell_type": "markdown",
   "metadata": {
    "deletable": false
   },
   "source": [
    "### Requirement FR6 - Develop a function to read CSV data from a file into memory"
   ]
  },
  {
   "cell_type": "code",
   "execution_count": 32,
   "metadata": {},
   "outputs": [
    {
     "name": "stdout",
     "output_type": "stream",
     "text": [
      "{'\"age\" ': ' [ 16,27,26,25,29,29,22,35,44,31,76,40,31,23,39,25,54,24,57,21,42,21,36,26,49,54,26,48,33,21,41,48,36,41,29,27,45,32,35,36,35,40,18,34,39,21,62,43,44,29,35,50,18,25,31,29,49,23,45,26,35,34,46,29,39,28,51,67,53,25,30,24,35,43,24,29,38,31,36,23,38,53,24,26,28,34,28,40,51,44,25,56,37,58,39,37,35,26,47,31,60,32,45,42,17,22,33,18,39,59,33,58,58,47,41,64,45,53,24,48,29,40,34,21,26,45,25,17,24,42,29,42,30,29,39,63,49,41,27,30,60,77,19,37,54,29,30,24,21,44,40,32,22,43,52,27,34,20,25,24,20,46,42,43,41,59,25,42,64,22,24,63,56,60,54,37,22,39,45,57,42,19,26,34,69,64,35,40,19,27,37,17,39,74,42,47,43,46,44,31,47,41,43,40,32,31,20,20,33,22,41,41,32,16,29,42,29,47,53,18,47,34,36,63,36,27,28,33,32,42,31,17,28,24,71,51,28,53,54,45,33,48,34,23,35,33,32,52,30,23,35,42,37,56,36,27,30,31,46,51,72,28,63,28,33,24,27,24,28,28,17,46,52,39,49,30,51,16,18,22,40,61,52,51,36,36,59,17,18,41,33,25,23,47,58,47,34,28,37,87,39,27,35,36,24,26,34,51,49,41,54,36,26,35,22,27,42,32,32,25,26,53,26,40,55,29,31,19,57,40,35,35,39,37,36,62,43,32,34,37,37,33,35,40,21,30,23,26,39,33,34,37,26,24,25,31,49,59,50,37,28,26,23,32,24,42,34,68,31,83,35,29,50,56,43,38,27,36,55,36,68,61,46,47,26,37,22,18,39,49,23,47,32,45,51,31,54,31,23,29,28,31,24,27,57,39,38,34,39,20,35,36,38,33,57,38,72,37,47,43,37,75,21,20,29,37,41,22,23,64,34,49,32,25,39,53,27,36,20,39,19,34,36,34,31,45,34,31,28,57,29,50,40,35,53,59,18,28,52,38,48 ]'}\n"
     ]
    }
   ],
   "source": [
    "# add code here\n",
    "def make_dictionary(file_in):\n",
    "    with open(file_in, \"r\") as buffer:\n",
    "        list1 = buffer.readlines()\n",
    "#print(openedlist[0].split(','))        \n",
    "#we have a list of list with the new line xter\n",
    "#we must split the list into single list and remove the end on line xter        \n",
    "        counter = len(list1[0].split(','))\n",
    "        start_col = 0\n",
    "        main_dict = {}\n",
    "        while counter > start_col:\n",
    "            output = extract_column(file_in,start_col)\n",
    "            out_list = output.split(':')\n",
    "            main_dict[out_list[0]] = out_list[1]\n",
    "            start_col += 1\n",
    "        return main_dict\n",
    "\n",
    "\n",
    "\n",
    "print(make_dictionary(\"task1.csv\"))"
   ]
  },
  {
   "cell_type": "markdown",
   "metadata": {
    "deletable": false
   },
   "source": [
    "<p style=\"color:red; font-weight:bold; font-size:xx-small\">MARK: __%</p>\n",
    "<p style=\"color:red; font-weight:bold; font-size:xx-small\">FEEDBACK: </p>"
   ]
  },
  {
   "cell_type": "markdown",
   "metadata": {
    "deletable": false
   },
   "source": [
    "### Requirement FR7 - Develop a function to generate a set of statistics for a given data file"
   ]
  },
  {
   "cell_type": "code",
   "execution_count": 7,
   "metadata": {},
   "outputs": [],
   "source": [
    "# add code here\n"
   ]
  },
  {
   "cell_type": "markdown",
   "metadata": {
    "deletable": false
   },
   "source": [
    "<p style=\"color:red; font-weight:bold; font-size:xx-small\">MARK: __%</p>\n",
    "<p style=\"color:red; font-weight:bold; font-size:xx-small\">FEEDBACK: </p>"
   ]
  },
  {
   "cell_type": "markdown",
   "metadata": {
    "deletable": false
   },
   "source": [
    "### Requirement FR8 - Develop a function to print a custom table"
   ]
  },
  {
   "cell_type": "code",
   "execution_count": 8,
   "metadata": {},
   "outputs": [],
   "source": [
    "# add code here\n",
    "def make_table(file_in)"
   ]
  },
  {
   "cell_type": "markdown",
   "metadata": {
    "deletable": false
   },
   "source": [
    "<p style=\"color:red; font-weight:bold; font-size:xx-small\">MARK: __%</p>\n",
    "<p style=\"color:red; font-weight:bold; font-size:xx-small\">FEEDBACK: </p>"
   ]
  },
  {
   "cell_type": "markdown",
   "metadata": {
    "deletable": false
   },
   "source": [
    "# Coding Standards\n",
    "<p style=\"color:red; font-weight:bold; font-size:xx-small\">MARK: __%</p>\n",
    "<p style=\"color:red; font-weight:bold; font-size:xx-small\">FEEDBACK: </p>"
   ]
  },
  {
   "cell_type": "markdown",
   "metadata": {
    "deletable": false
   },
   "source": [
    "# Process Development Report for Programming Task 1\n"
   ]
  },
  {
   "cell_type": "markdown",
   "metadata": {},
   "source": [
    "add i text here\n",
    "This coursework has thought me new things about myself. I have found out that i achieved a lot more when asked the right questions and worked with colleagues.\n",
    "\n",
    "I was also amazed at my *ability to research* new topics and understand them. while using the knowledge gained to solve questions.This has changed my method of learning.I *gained analytical skills* as now i can learn quickly and solve problems faster than before. Previously i learned by going deep into a topic but now i see that i can also learn by reading wide.\n",
    "\n",
    "In the past i would have preferred answering the questions based on my own experiences and previous education, however i have *learned that open-mindedness* is a skill necessary to succeed. It helped me adjust my approach to solving some problems.\n",
    "Programming is a skill i never thought i could have. Though i am still at the beginner level i have learned that it is possible with consistency.\n",
    "\n",
    "i have learned that programming must be a daily thing. That is the only way to abreast. \n",
    "\n",
    "for solution i used some of the follwoing\n",
    "\n",
    "(a) A blogpost titled 'Finding Mean, Median, Mode in Python without libraries'\n",
    "https://www.geeksforgeeks.org/finding-mean-median-mode-in-python-without-libraries/\n",
    "\n",
    "(b)A webpage:Calculating Variance and Standard Deviation in Python\n",
    "https://stackabuse.com/calculating-variance-and-standard-deviation-in-python/\n",
    "\n",
    "(c)A blogpost titled:How to Split List in Python\n",
    "https://appdividend.com/2021/06/15/how-to-split-list-in-python/\n",
    "\n",
    "This has been an excellent experience for me. I never imagined, i could gain programming skills in such a short time. \n",
    "\n",
    "I know the field of data science is wide and is considered daunting but i am even more excited about getting into this industry and helping solving real world problems, helping businesses make data driven decisions, helping NHS and scientists in using data to discover patterns in diseases and working towards producing drugs that treat these diseases"
   ]
  },
  {
   "cell_type": "markdown",
   "metadata": {
    "deletable": false
   },
   "source": [
    "<p style=\"color:red; font-weight:bold; font-size:xx-small\">MARK: __%</p>\n",
    "<p style=\"color:red; font-weight:bold; font-size:xx-small\">FEEDBACK: </p>"
   ]
  }
 ],
 "metadata": {
  "kernelspec": {
   "display_name": "Python 3 (ipykernel)",
   "language": "python",
   "name": "python3"
  },
  "language_info": {
   "codemirror_mode": {
    "name": "ipython",
    "version": 3
   },
   "file_extension": ".py",
   "mimetype": "text/x-python",
   "name": "python",
   "nbconvert_exporter": "python",
   "pygments_lexer": "ipython3",
   "version": "3.9.7"
  }
 },
 "nbformat": 4,
 "nbformat_minor": 4
}
